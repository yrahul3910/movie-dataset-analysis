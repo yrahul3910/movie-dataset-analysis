{
 "cells": [
  {
   "cell_type": "markdown",
   "metadata": {},
   "source": [
    "# Multi-file Plots\n",
    "In this notebook, we create visualizations using multiple files of the dataset."
   ]
  },
  {
   "cell_type": "code",
   "execution_count": 28,
   "metadata": {},
   "outputs": [],
   "source": [
    "import pandas as pd\n",
    "import math\n",
    "import numpy as np\n",
    "import os\n",
    "%matplotlib inline"
   ]
  },
  {
   "cell_type": "code",
   "execution_count": 2,
   "metadata": {},
   "outputs": [],
   "source": [
    "movies_file = os.path.join(os.path.pardir, 'processed', 'movies_processed.dat')\n",
    "movies_df = pd.read_csv(movies_file)"
   ]
  },
  {
   "cell_type": "code",
   "execution_count": 3,
   "metadata": {},
   "outputs": [
    {
     "data": {
      "text/html": [
       "<div>\n",
       "<style scoped>\n",
       "    .dataframe tbody tr th:only-of-type {\n",
       "        vertical-align: middle;\n",
       "    }\n",
       "\n",
       "    .dataframe tbody tr th {\n",
       "        vertical-align: top;\n",
       "    }\n",
       "\n",
       "    .dataframe thead th {\n",
       "        text-align: right;\n",
       "    }\n",
       "</style>\n",
       "<table border=\"1\" class=\"dataframe\">\n",
       "  <thead>\n",
       "    <tr style=\"text-align: right;\">\n",
       "      <th></th>\n",
       "      <th>id</th>\n",
       "      <th>year</th>\n",
       "      <th>genres</th>\n",
       "    </tr>\n",
       "  </thead>\n",
       "  <tbody>\n",
       "    <tr>\n",
       "      <th>0</th>\n",
       "      <td>1</td>\n",
       "      <td>1995</td>\n",
       "      <td>Animation|Children's|Comedy</td>\n",
       "    </tr>\n",
       "    <tr>\n",
       "      <th>1</th>\n",
       "      <td>2</td>\n",
       "      <td>1995</td>\n",
       "      <td>Adventure|Children's|Fantasy</td>\n",
       "    </tr>\n",
       "    <tr>\n",
       "      <th>2</th>\n",
       "      <td>3</td>\n",
       "      <td>1995</td>\n",
       "      <td>Comedy|Romance</td>\n",
       "    </tr>\n",
       "    <tr>\n",
       "      <th>3</th>\n",
       "      <td>4</td>\n",
       "      <td>1995</td>\n",
       "      <td>Comedy|Drama</td>\n",
       "    </tr>\n",
       "    <tr>\n",
       "      <th>4</th>\n",
       "      <td>5</td>\n",
       "      <td>1995</td>\n",
       "      <td>Comedy</td>\n",
       "    </tr>\n",
       "    <tr>\n",
       "      <th>5</th>\n",
       "      <td>6</td>\n",
       "      <td>1995</td>\n",
       "      <td>Action|Crime|Thriller</td>\n",
       "    </tr>\n",
       "    <tr>\n",
       "      <th>6</th>\n",
       "      <td>7</td>\n",
       "      <td>1995</td>\n",
       "      <td>Comedy|Romance</td>\n",
       "    </tr>\n",
       "    <tr>\n",
       "      <th>7</th>\n",
       "      <td>8</td>\n",
       "      <td>1995</td>\n",
       "      <td>Adventure|Children's</td>\n",
       "    </tr>\n",
       "    <tr>\n",
       "      <th>8</th>\n",
       "      <td>9</td>\n",
       "      <td>1995</td>\n",
       "      <td>Action</td>\n",
       "    </tr>\n",
       "    <tr>\n",
       "      <th>9</th>\n",
       "      <td>10</td>\n",
       "      <td>1995</td>\n",
       "      <td>Action|Adventure|Thriller</td>\n",
       "    </tr>\n",
       "  </tbody>\n",
       "</table>\n",
       "</div>"
      ],
      "text/plain": [
       "   id  year                        genres\n",
       "0   1  1995   Animation|Children's|Comedy\n",
       "1   2  1995  Adventure|Children's|Fantasy\n",
       "2   3  1995                Comedy|Romance\n",
       "3   4  1995                  Comedy|Drama\n",
       "4   5  1995                        Comedy\n",
       "5   6  1995         Action|Crime|Thriller\n",
       "6   7  1995                Comedy|Romance\n",
       "7   8  1995          Adventure|Children's\n",
       "8   9  1995                        Action\n",
       "9  10  1995     Action|Adventure|Thriller"
      ]
     },
     "execution_count": 3,
     "metadata": {},
     "output_type": "execute_result"
    }
   ],
   "source": [
    "movies_df[:10]"
   ]
  },
  {
   "cell_type": "code",
   "execution_count": 4,
   "metadata": {},
   "outputs": [],
   "source": [
    "ratings_file = os.path.join(os.path.pardir, 'processed', 'ratings_processed.csv')\n",
    "ratings_df = pd.read_csv(ratings_file)"
   ]
  },
  {
   "cell_type": "code",
   "execution_count": 5,
   "metadata": {},
   "outputs": [
    {
     "data": {
      "text/html": [
       "<div>\n",
       "<style scoped>\n",
       "    .dataframe tbody tr th:only-of-type {\n",
       "        vertical-align: middle;\n",
       "    }\n",
       "\n",
       "    .dataframe tbody tr th {\n",
       "        vertical-align: top;\n",
       "    }\n",
       "\n",
       "    .dataframe thead th {\n",
       "        text-align: right;\n",
       "    }\n",
       "</style>\n",
       "<table border=\"1\" class=\"dataframe\">\n",
       "  <thead>\n",
       "    <tr style=\"text-align: right;\">\n",
       "      <th></th>\n",
       "      <th>user</th>\n",
       "      <th>movie</th>\n",
       "      <th>rating</th>\n",
       "    </tr>\n",
       "  </thead>\n",
       "  <tbody>\n",
       "    <tr>\n",
       "      <th>0</th>\n",
       "      <td>2783</td>\n",
       "      <td>1253</td>\n",
       "      <td>5</td>\n",
       "    </tr>\n",
       "    <tr>\n",
       "      <th>1</th>\n",
       "      <td>2783</td>\n",
       "      <td>589</td>\n",
       "      <td>5</td>\n",
       "    </tr>\n",
       "    <tr>\n",
       "      <th>2</th>\n",
       "      <td>2783</td>\n",
       "      <td>1270</td>\n",
       "      <td>4</td>\n",
       "    </tr>\n",
       "    <tr>\n",
       "      <th>3</th>\n",
       "      <td>2783</td>\n",
       "      <td>1274</td>\n",
       "      <td>4</td>\n",
       "    </tr>\n",
       "    <tr>\n",
       "      <th>4</th>\n",
       "      <td>2783</td>\n",
       "      <td>741</td>\n",
       "      <td>5</td>\n",
       "    </tr>\n",
       "    <tr>\n",
       "      <th>5</th>\n",
       "      <td>2783</td>\n",
       "      <td>750</td>\n",
       "      <td>5</td>\n",
       "    </tr>\n",
       "    <tr>\n",
       "      <th>6</th>\n",
       "      <td>2783</td>\n",
       "      <td>924</td>\n",
       "      <td>5</td>\n",
       "    </tr>\n",
       "    <tr>\n",
       "      <th>7</th>\n",
       "      <td>2783</td>\n",
       "      <td>2407</td>\n",
       "      <td>4</td>\n",
       "    </tr>\n",
       "    <tr>\n",
       "      <th>8</th>\n",
       "      <td>2783</td>\n",
       "      <td>3070</td>\n",
       "      <td>3</td>\n",
       "    </tr>\n",
       "    <tr>\n",
       "      <th>9</th>\n",
       "      <td>2783</td>\n",
       "      <td>208</td>\n",
       "      <td>1</td>\n",
       "    </tr>\n",
       "  </tbody>\n",
       "</table>\n",
       "</div>"
      ],
      "text/plain": [
       "   user  movie  rating\n",
       "0  2783   1253       5\n",
       "1  2783    589       5\n",
       "2  2783   1270       4\n",
       "3  2783   1274       4\n",
       "4  2783    741       5\n",
       "5  2783    750       5\n",
       "6  2783    924       5\n",
       "7  2783   2407       4\n",
       "8  2783   3070       3\n",
       "9  2783    208       1"
      ]
     },
     "execution_count": 5,
     "metadata": {},
     "output_type": "execute_result"
    }
   ],
   "source": [
    "ratings_df[:10]"
   ]
  },
  {
   "cell_type": "code",
   "execution_count": 6,
   "metadata": {},
   "outputs": [],
   "source": [
    "users_file = os.path.join(os.path.pardir, 'processed', 'users_processed.dat')\n",
    "users_df = pd.read_csv(users_file, sep='::', engine='python')"
   ]
  },
  {
   "cell_type": "code",
   "execution_count": 7,
   "metadata": {},
   "outputs": [
    {
     "data": {
      "text/html": [
       "<div>\n",
       "<style scoped>\n",
       "    .dataframe tbody tr th:only-of-type {\n",
       "        vertical-align: middle;\n",
       "    }\n",
       "\n",
       "    .dataframe tbody tr th {\n",
       "        vertical-align: top;\n",
       "    }\n",
       "\n",
       "    .dataframe thead th {\n",
       "        text-align: right;\n",
       "    }\n",
       "</style>\n",
       "<table border=\"1\" class=\"dataframe\">\n",
       "  <thead>\n",
       "    <tr style=\"text-align: right;\">\n",
       "      <th></th>\n",
       "      <th>id</th>\n",
       "      <th>gender</th>\n",
       "      <th>age_group</th>\n",
       "      <th>occupation</th>\n",
       "      <th>zip_code</th>\n",
       "    </tr>\n",
       "  </thead>\n",
       "  <tbody>\n",
       "    <tr>\n",
       "      <th>0</th>\n",
       "      <td>1</td>\n",
       "      <td>F</td>\n",
       "      <td>1</td>\n",
       "      <td>10</td>\n",
       "      <td>48067</td>\n",
       "    </tr>\n",
       "    <tr>\n",
       "      <th>1</th>\n",
       "      <td>2</td>\n",
       "      <td>M</td>\n",
       "      <td>56</td>\n",
       "      <td>16</td>\n",
       "      <td>70072</td>\n",
       "    </tr>\n",
       "    <tr>\n",
       "      <th>2</th>\n",
       "      <td>3</td>\n",
       "      <td>M</td>\n",
       "      <td>25</td>\n",
       "      <td>15</td>\n",
       "      <td>55117</td>\n",
       "    </tr>\n",
       "    <tr>\n",
       "      <th>3</th>\n",
       "      <td>4</td>\n",
       "      <td>M</td>\n",
       "      <td>45</td>\n",
       "      <td>7</td>\n",
       "      <td>02460</td>\n",
       "    </tr>\n",
       "    <tr>\n",
       "      <th>4</th>\n",
       "      <td>5</td>\n",
       "      <td>M</td>\n",
       "      <td>25</td>\n",
       "      <td>20</td>\n",
       "      <td>55455</td>\n",
       "    </tr>\n",
       "    <tr>\n",
       "      <th>5</th>\n",
       "      <td>6</td>\n",
       "      <td>F</td>\n",
       "      <td>50</td>\n",
       "      <td>9</td>\n",
       "      <td>55117</td>\n",
       "    </tr>\n",
       "    <tr>\n",
       "      <th>6</th>\n",
       "      <td>7</td>\n",
       "      <td>M</td>\n",
       "      <td>35</td>\n",
       "      <td>1</td>\n",
       "      <td>06810</td>\n",
       "    </tr>\n",
       "    <tr>\n",
       "      <th>7</th>\n",
       "      <td>8</td>\n",
       "      <td>M</td>\n",
       "      <td>25</td>\n",
       "      <td>12</td>\n",
       "      <td>11413</td>\n",
       "    </tr>\n",
       "    <tr>\n",
       "      <th>8</th>\n",
       "      <td>9</td>\n",
       "      <td>M</td>\n",
       "      <td>25</td>\n",
       "      <td>17</td>\n",
       "      <td>61614</td>\n",
       "    </tr>\n",
       "    <tr>\n",
       "      <th>9</th>\n",
       "      <td>10</td>\n",
       "      <td>F</td>\n",
       "      <td>35</td>\n",
       "      <td>1</td>\n",
       "      <td>95370</td>\n",
       "    </tr>\n",
       "  </tbody>\n",
       "</table>\n",
       "</div>"
      ],
      "text/plain": [
       "   id gender  age_group  occupation zip_code\n",
       "0   1      F          1          10    48067\n",
       "1   2      M         56          16    70072\n",
       "2   3      M         25          15    55117\n",
       "3   4      M         45           7    02460\n",
       "4   5      M         25          20    55455\n",
       "5   6      F         50           9    55117\n",
       "6   7      M         35           1    06810\n",
       "7   8      M         25          12    11413\n",
       "8   9      M         25          17    61614\n",
       "9  10      F         35           1    95370"
      ]
     },
     "execution_count": 7,
     "metadata": {},
     "output_type": "execute_result"
    }
   ],
   "source": [
    "users_df[:10]"
   ]
  },
  {
   "cell_type": "markdown",
   "metadata": {},
   "source": [
    "Now we'll get the list of genres"
   ]
  },
  {
   "cell_type": "code",
   "execution_count": 8,
   "metadata": {},
   "outputs": [],
   "source": [
    "split_genres = [row.split('|') for row in movies_df.genres]\n",
    "genre_list = np.concatenate(split_genres)"
   ]
  },
  {
   "cell_type": "code",
   "execution_count": 9,
   "metadata": {},
   "outputs": [
    {
     "data": {
      "text/plain": [
       "array(['Animation', \"Children's\", 'Comedy', ..., 'Drama', 'Drama',\n",
       "       'Thriller'], dtype='<U11')"
      ]
     },
     "execution_count": 9,
     "metadata": {},
     "output_type": "execute_result"
    }
   ],
   "source": [
    "genre_list"
   ]
  },
  {
   "cell_type": "code",
   "execution_count": 11,
   "metadata": {},
   "outputs": [],
   "source": [
    "unique_genres = np.unique(genre_list)"
   ]
  },
  {
   "cell_type": "code",
   "execution_count": 12,
   "metadata": {},
   "outputs": [
    {
     "data": {
      "text/plain": [
       "array(['Action', 'Adventure', 'Animation', \"Children's\", 'Comedy',\n",
       "       'Crime', 'Documentary', 'Drama', 'Fantasy', 'Film-Noir', 'Horror',\n",
       "       'Musical', 'Mystery', 'Romance', 'Sci-Fi', 'Thriller', 'War',\n",
       "       'Western'], dtype='<U11')"
      ]
     },
     "execution_count": 12,
     "metadata": {},
     "output_type": "execute_result"
    }
   ],
   "source": [
    "unique_genres"
   ]
  },
  {
   "cell_type": "markdown",
   "metadata": {},
   "source": [
    "**Question 1:** What genres have the highest median rating?  \n",
    "Answering this question is one way to figure out what kind of movies to show more. This doesn't mean we need to ignore other genres, but perhaps we could suggest movies according to this.  \n",
    "\n",
    "**Related Question:** What genre has the highest number of 5-star ratings?"
   ]
  },
  {
   "cell_type": "code",
   "execution_count": 31,
   "metadata": {},
   "outputs": [],
   "source": [
    "# Movies, genres, and rating DataFrame\n",
    "movies_df.columns = ['movie', 'year', 'genres']\n",
    "mgr_df = movies_df.merge(ratings_df, how='inner', on='movie')"
   ]
  },
  {
   "cell_type": "code",
   "execution_count": 32,
   "metadata": {},
   "outputs": [
    {
     "data": {
      "text/plain": [
       "array([1, 2, 3, 4, 5])"
      ]
     },
     "execution_count": 32,
     "metadata": {},
     "output_type": "execute_result"
    }
   ],
   "source": [
    "np.unique(ratings_df['rating'])"
   ]
  },
  {
   "cell_type": "code",
   "execution_count": 33,
   "metadata": {},
   "outputs": [
    {
     "data": {
      "text/html": [
       "<div>\n",
       "<style scoped>\n",
       "    .dataframe tbody tr th:only-of-type {\n",
       "        vertical-align: middle;\n",
       "    }\n",
       "\n",
       "    .dataframe tbody tr th {\n",
       "        vertical-align: top;\n",
       "    }\n",
       "\n",
       "    .dataframe thead th {\n",
       "        text-align: right;\n",
       "    }\n",
       "</style>\n",
       "<table border=\"1\" class=\"dataframe\">\n",
       "  <thead>\n",
       "    <tr style=\"text-align: right;\">\n",
       "      <th></th>\n",
       "      <th>movie</th>\n",
       "      <th>year</th>\n",
       "      <th>genres</th>\n",
       "      <th>user</th>\n",
       "      <th>rating</th>\n",
       "    </tr>\n",
       "  </thead>\n",
       "  <tbody>\n",
       "    <tr>\n",
       "      <th>0</th>\n",
       "      <td>1</td>\n",
       "      <td>1995</td>\n",
       "      <td>Animation|Children's|Comedy</td>\n",
       "      <td>2787</td>\n",
       "      <td>5</td>\n",
       "    </tr>\n",
       "    <tr>\n",
       "      <th>1</th>\n",
       "      <td>1</td>\n",
       "      <td>1995</td>\n",
       "      <td>Animation|Children's|Comedy</td>\n",
       "      <td>2788</td>\n",
       "      <td>5</td>\n",
       "    </tr>\n",
       "    <tr>\n",
       "      <th>2</th>\n",
       "      <td>1</td>\n",
       "      <td>1995</td>\n",
       "      <td>Animation|Children's|Comedy</td>\n",
       "      <td>2792</td>\n",
       "      <td>3</td>\n",
       "    </tr>\n",
       "    <tr>\n",
       "      <th>3</th>\n",
       "      <td>1</td>\n",
       "      <td>1995</td>\n",
       "      <td>Animation|Children's|Comedy</td>\n",
       "      <td>2796</td>\n",
       "      <td>3</td>\n",
       "    </tr>\n",
       "    <tr>\n",
       "      <th>4</th>\n",
       "      <td>1</td>\n",
       "      <td>1995</td>\n",
       "      <td>Animation|Children's|Comedy</td>\n",
       "      <td>2799</td>\n",
       "      <td>5</td>\n",
       "    </tr>\n",
       "    <tr>\n",
       "      <th>5</th>\n",
       "      <td>1</td>\n",
       "      <td>1995</td>\n",
       "      <td>Animation|Children's|Comedy</td>\n",
       "      <td>2806</td>\n",
       "      <td>2</td>\n",
       "    </tr>\n",
       "    <tr>\n",
       "      <th>6</th>\n",
       "      <td>1</td>\n",
       "      <td>1995</td>\n",
       "      <td>Animation|Children's|Comedy</td>\n",
       "      <td>2807</td>\n",
       "      <td>3</td>\n",
       "    </tr>\n",
       "    <tr>\n",
       "      <th>7</th>\n",
       "      <td>1</td>\n",
       "      <td>1995</td>\n",
       "      <td>Animation|Children's|Comedy</td>\n",
       "      <td>2809</td>\n",
       "      <td>5</td>\n",
       "    </tr>\n",
       "    <tr>\n",
       "      <th>8</th>\n",
       "      <td>1</td>\n",
       "      <td>1995</td>\n",
       "      <td>Animation|Children's|Comedy</td>\n",
       "      <td>2810</td>\n",
       "      <td>4</td>\n",
       "    </tr>\n",
       "    <tr>\n",
       "      <th>9</th>\n",
       "      <td>1</td>\n",
       "      <td>1995</td>\n",
       "      <td>Animation|Children's|Comedy</td>\n",
       "      <td>2812</td>\n",
       "      <td>3</td>\n",
       "    </tr>\n",
       "  </tbody>\n",
       "</table>\n",
       "</div>"
      ],
      "text/plain": [
       "   movie  year                       genres  user  rating\n",
       "0      1  1995  Animation|Children's|Comedy  2787       5\n",
       "1      1  1995  Animation|Children's|Comedy  2788       5\n",
       "2      1  1995  Animation|Children's|Comedy  2792       3\n",
       "3      1  1995  Animation|Children's|Comedy  2796       3\n",
       "4      1  1995  Animation|Children's|Comedy  2799       5\n",
       "5      1  1995  Animation|Children's|Comedy  2806       2\n",
       "6      1  1995  Animation|Children's|Comedy  2807       3\n",
       "7      1  1995  Animation|Children's|Comedy  2809       5\n",
       "8      1  1995  Animation|Children's|Comedy  2810       4\n",
       "9      1  1995  Animation|Children's|Comedy  2812       3"
      ]
     },
     "execution_count": 33,
     "metadata": {},
     "output_type": "execute_result"
    }
   ],
   "source": [
    "mgr_df[:10]"
   ]
  },
  {
   "cell_type": "code",
   "execution_count": 35,
   "metadata": {},
   "outputs": [],
   "source": [
    "genre_rating_maps = {}\n",
    "for genre in unique_genres:\n",
    "    genre_rating_maps[genre] = []"
   ]
  },
  {
   "cell_type": "code",
   "execution_count": 36,
   "metadata": {},
   "outputs": [
    {
     "data": {
      "text/plain": [
       "{'Action': [],\n",
       " 'Adventure': [],\n",
       " 'Animation': [],\n",
       " \"Children's\": [],\n",
       " 'Comedy': [],\n",
       " 'Crime': [],\n",
       " 'Documentary': [],\n",
       " 'Drama': [],\n",
       " 'Fantasy': [],\n",
       " 'Film-Noir': [],\n",
       " 'Horror': [],\n",
       " 'Musical': [],\n",
       " 'Mystery': [],\n",
       " 'Romance': [],\n",
       " 'Sci-Fi': [],\n",
       " 'Thriller': [],\n",
       " 'War': [],\n",
       " 'Western': []}"
      ]
     },
     "execution_count": 36,
     "metadata": {},
     "output_type": "execute_result"
    }
   ],
   "source": [
    "genre_rating_maps"
   ]
  },
  {
   "cell_type": "markdown",
   "metadata": {},
   "source": [
    "Caution: The cell below may take quite a long time."
   ]
  },
  {
   "cell_type": "code",
   "execution_count": 37,
   "metadata": {},
   "outputs": [],
   "source": [
    "for _, row in mgr_df.iterrows():\n",
    "    cur_genres = row['genres'].split('|')\n",
    "    for genre in cur_genres:\n",
    "        genre_rating_maps[genre].append(row['rating'])"
   ]
  },
  {
   "cell_type": "code",
   "execution_count": 38,
   "metadata": {},
   "outputs": [
    {
     "data": {
      "text/plain": [
       "array([1, 2, 3, 4, 5])"
      ]
     },
     "execution_count": 38,
     "metadata": {},
     "output_type": "execute_result"
    }
   ],
   "source": [
    "np.unique(genre_rating_maps['Action'])"
   ]
  },
  {
   "cell_type": "code",
   "execution_count": 39,
   "metadata": {},
   "outputs": [],
   "source": [
    "mean_genre_ratings = { genre: np.mean(genre_rating_maps[genre]) for genre in unique_genres }"
   ]
  },
  {
   "cell_type": "code",
   "execution_count": 40,
   "metadata": {},
   "outputs": [
    {
     "data": {
      "text/plain": [
       "{'Action': 3.5179209577949004,\n",
       " 'Adventure': 3.49860188745194,\n",
       " 'Animation': 3.712814811234108,\n",
       " \"Children's\": 3.44031477340278,\n",
       " 'Comedy': 3.5405990412619985,\n",
       " 'Crime': 3.7325746104625606,\n",
       " 'Documentary': 3.944087747458534,\n",
       " 'Drama': 3.778878899332516,\n",
       " 'Fantasy': 3.473888534354393,\n",
       " 'Film-Noir': 4.083637534893708,\n",
       " 'Horror': 3.2375813810427028,\n",
       " 'Musical': 3.6805308861259127,\n",
       " 'Mystery': 3.69995129079396,\n",
       " 'Romance': 3.6272556390977444,\n",
       " 'Sci-Fi': 3.492791514155524,\n",
       " 'Thriller': 3.6062334972819055,\n",
       " 'War': 3.9075070458621575,\n",
       " 'Western': 3.6725688073394496}"
      ]
     },
     "execution_count": 40,
     "metadata": {},
     "output_type": "execute_result"
    }
   ],
   "source": [
    "mean_genre_ratings"
   ]
  },
  {
   "cell_type": "code",
   "execution_count": 41,
   "metadata": {},
   "outputs": [],
   "source": [
    "median_genre_ratings = { genre: np.median(genre_rating_maps[genre]) for genre in unique_genres }"
   ]
  },
  {
   "cell_type": "code",
   "execution_count": 42,
   "metadata": {},
   "outputs": [
    {
     "data": {
      "text/plain": [
       "{'Action': 4.0,\n",
       " 'Adventure': 4.0,\n",
       " 'Animation': 4.0,\n",
       " \"Children's\": 4.0,\n",
       " 'Comedy': 4.0,\n",
       " 'Crime': 4.0,\n",
       " 'Documentary': 4.0,\n",
       " 'Drama': 4.0,\n",
       " 'Fantasy': 4.0,\n",
       " 'Film-Noir': 4.0,\n",
       " 'Horror': 3.0,\n",
       " 'Musical': 4.0,\n",
       " 'Mystery': 4.0,\n",
       " 'Romance': 4.0,\n",
       " 'Sci-Fi': 4.0,\n",
       " 'Thriller': 4.0,\n",
       " 'War': 4.0,\n",
       " 'Western': 4.0}"
      ]
     },
     "execution_count": 42,
     "metadata": {},
     "output_type": "execute_result"
    }
   ],
   "source": [
    "median_genre_ratings"
   ]
  },
  {
   "cell_type": "markdown",
   "metadata": {},
   "source": [
    "This doesn't tell us anything at all, really. Horror has an unusually low median, so either people don't like that genre, or there are many ratings on the lower side."
   ]
  },
  {
   "cell_type": "code",
   "execution_count": 48,
   "metadata": {},
   "outputs": [],
   "source": [
    "import operator\n",
    "sorted_mean_ratings = sorted(mean_genre_ratings.items(), key=operator.itemgetter(1), reverse=True)"
   ]
  },
  {
   "cell_type": "code",
   "execution_count": 49,
   "metadata": {},
   "outputs": [
    {
     "data": {
      "text/plain": [
       "[('Film-Noir', 4.083637534893708),\n",
       " ('Documentary', 3.944087747458534),\n",
       " ('War', 3.9075070458621575),\n",
       " ('Drama', 3.778878899332516),\n",
       " ('Crime', 3.7325746104625606),\n",
       " ('Animation', 3.712814811234108),\n",
       " ('Mystery', 3.69995129079396),\n",
       " ('Musical', 3.6805308861259127),\n",
       " ('Western', 3.6725688073394496),\n",
       " ('Romance', 3.6272556390977444),\n",
       " ('Thriller', 3.6062334972819055),\n",
       " ('Comedy', 3.5405990412619985),\n",
       " ('Action', 3.5179209577949004),\n",
       " ('Adventure', 3.49860188745194),\n",
       " ('Sci-Fi', 3.492791514155524),\n",
       " ('Fantasy', 3.473888534354393),\n",
       " (\"Children's\", 3.44031477340278),\n",
       " ('Horror', 3.2375813810427028)]"
      ]
     },
     "execution_count": 49,
     "metadata": {},
     "output_type": "execute_result"
    }
   ],
   "source": [
    "sorted_mean_ratings"
   ]
  },
  {
   "cell_type": "markdown",
   "metadata": {},
   "source": [
    "The above is the descending order of mean ratings of each genre. Thus, from the mean and median genre ratings, we conclude that horror movies aren't liked as much. In contrast, Film-Noir and Documentary films seem to have the highest mean ratings.  \n",
    "\n",
    "This doesn't necessarily mean that they're the most liked. In notebook 2, we remarked how Film-Noir had the least number of ratings. Thus, one way to interpret this is that only people who like the Film-Noir genre watch and rate those movies, but a much larger number of people watch other genres, and some people watching those genres, having been disappointed by some movie, might have given lower ratings. Alternatively, a few bad movies in some genre could bring down its mean rating.  \n",
    "\n",
    "One thing to note, is that Drama movies have the fourth-highest mean rating, but they also have the most number of ratings (from notebook 2). This means these movies are consistently good.  \n",
    "\n",
    "**Conclusion #1:** Drama movies are consistently good, as they have the highest number of ratings and a high mean rating. People who watch film-noir, documentary, and war movies tend to like and give higher ratings to other movies in those genres as well. Horror movies don't seem to perform very well."
   ]
  },
  {
   "cell_type": "markdown",
   "metadata": {},
   "source": [
    "We now plot the distribution of ratings for each genre."
   ]
  },
  {
   "cell_type": "code",
   "execution_count": 57,
   "metadata": {},
   "outputs": [],
   "source": [
    "import matplotlib.pyplot as plt\n",
    "import matplotlib.gridspec as gridspec"
   ]
  },
  {
   "cell_type": "code",
   "execution_count": 73,
   "metadata": {},
   "outputs": [
    {
     "data": {
      "image/png": "[encoded data removed]",
      "text/plain": [
       "<Figure size 1152x1728 with 18 Axes>"
      ]
     },
     "metadata": {},
     "output_type": "display_data"
    }
   ],
   "source": [
    "i = 0\n",
    "plt.figure(figsize=(16, 24))\n",
    "plt.subplots_adjust(wspace=0.25, hspace=0.5)\n",
    "for genre, ratings in genre_rating_maps.items():\n",
    "    plt.subplot(6, 3, i + 1)\n",
    "    plt.title(genre)\n",
    "    plt.hist(ratings, color='c')\n",
    "    i += 1\n",
    "plt.show()"
   ]
  },
  {
   "cell_type": "code",
   "execution_count": null,
   "metadata": {},
   "outputs": [],
   "source": []
  }
 ],
 "metadata": {
  "kernelspec": {
   "display_name": "Python 3",
   "language": "python",
   "name": "python3"
  },
  "language_info": {
   "codemirror_mode": {
    "name": "ipython",
    "version": 3
   },
   "file_extension": ".py",
   "mimetype": "text/x-python",
   "name": "python",
   "nbconvert_exporter": "python",
   "pygments_lexer": "ipython3",
   "version": "3.6.5"
  }
 },
 "nbformat": 4,
 "nbformat_minor": 2
}
