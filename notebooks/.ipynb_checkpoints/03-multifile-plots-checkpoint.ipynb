{
 "cells": [
  {
   "cell_type": "markdown",
   "metadata": {},
   "source": [
    "# Multi-file Plots\n",
    "In this notebook, we create visualizations using multiple files of the dataset."
   ]
  },
  {
   "cell_type": "code",
   "execution_count": 1,
   "metadata": {},
   "outputs": [],
   "source": [
    "import pandas as pd\n",
    "import math\n",
    "import numpy as np\n",
    "import os\n",
    "%matplotlib inline"
   ]
  },
  {
   "cell_type": "code",
   "execution_count": 2,
   "metadata": {},
   "outputs": [],
   "source": [
    "movies_file = os.path.join(os.path.pardir, 'processed', 'movies_processed.dat')\n",
    "movies_df = pd.read_csv(movies_file)"
   ]
  },
  {
   "cell_type": "code",
   "execution_count": 3,
   "metadata": {},
   "outputs": [
    {
     "data": {
      "text/html": [
       "<div>\n",
       "<style scoped>\n",
       "    .dataframe tbody tr th:only-of-type {\n",
       "        vertical-align: middle;\n",
       "    }\n",
       "\n",
       "    .dataframe tbody tr th {\n",
       "        vertical-align: top;\n",
       "    }\n",
       "\n",
       "    .dataframe thead th {\n",
       "        text-align: right;\n",
       "    }\n",
       "</style>\n",
       "<table border=\"1\" class=\"dataframe\">\n",
       "  <thead>\n",
       "    <tr style=\"text-align: right;\">\n",
       "      <th></th>\n",
       "      <th>id</th>\n",
       "      <th>year</th>\n",
       "      <th>genres</th>\n",
       "    </tr>\n",
       "  </thead>\n",
       "  <tbody>\n",
       "    <tr>\n",
       "      <th>0</th>\n",
       "      <td>1</td>\n",
       "      <td>1995</td>\n",
       "      <td>Animation|Children's|Comedy</td>\n",
       "    </tr>\n",
       "    <tr>\n",
       "      <th>1</th>\n",
       "      <td>2</td>\n",
       "      <td>1995</td>\n",
       "      <td>Adventure|Children's|Fantasy</td>\n",
       "    </tr>\n",
       "    <tr>\n",
       "      <th>2</th>\n",
       "      <td>3</td>\n",
       "      <td>1995</td>\n",
       "      <td>Comedy|Romance</td>\n",
       "    </tr>\n",
       "    <tr>\n",
       "      <th>3</th>\n",
       "      <td>4</td>\n",
       "      <td>1995</td>\n",
       "      <td>Comedy|Drama</td>\n",
       "    </tr>\n",
       "    <tr>\n",
       "      <th>4</th>\n",
       "      <td>5</td>\n",
       "      <td>1995</td>\n",
       "      <td>Comedy</td>\n",
       "    </tr>\n",
       "    <tr>\n",
       "      <th>5</th>\n",
       "      <td>6</td>\n",
       "      <td>1995</td>\n",
       "      <td>Action|Crime|Thriller</td>\n",
       "    </tr>\n",
       "    <tr>\n",
       "      <th>6</th>\n",
       "      <td>7</td>\n",
       "      <td>1995</td>\n",
       "      <td>Comedy|Romance</td>\n",
       "    </tr>\n",
       "    <tr>\n",
       "      <th>7</th>\n",
       "      <td>8</td>\n",
       "      <td>1995</td>\n",
       "      <td>Adventure|Children's</td>\n",
       "    </tr>\n",
       "    <tr>\n",
       "      <th>8</th>\n",
       "      <td>9</td>\n",
       "      <td>1995</td>\n",
       "      <td>Action</td>\n",
       "    </tr>\n",
       "    <tr>\n",
       "      <th>9</th>\n",
       "      <td>10</td>\n",
       "      <td>1995</td>\n",
       "      <td>Action|Adventure|Thriller</td>\n",
       "    </tr>\n",
       "  </tbody>\n",
       "</table>\n",
       "</div>"
      ],
      "text/plain": [
       "   id  year                        genres\n",
       "0   1  1995   Animation|Children's|Comedy\n",
       "1   2  1995  Adventure|Children's|Fantasy\n",
       "2   3  1995                Comedy|Romance\n",
       "3   4  1995                  Comedy|Drama\n",
       "4   5  1995                        Comedy\n",
       "5   6  1995         Action|Crime|Thriller\n",
       "6   7  1995                Comedy|Romance\n",
       "7   8  1995          Adventure|Children's\n",
       "8   9  1995                        Action\n",
       "9  10  1995     Action|Adventure|Thriller"
      ]
     },
     "execution_count": 3,
     "metadata": {},
     "output_type": "execute_result"
    }
   ],
   "source": [
    "movies_df[:10]"
   ]
  },
  {
   "cell_type": "code",
   "execution_count": 4,
   "metadata": {},
   "outputs": [],
   "source": [
    "ratings_file = os.path.join(os.path.pardir, 'processed', 'ratings_processed.csv')\n",
    "ratings_df = pd.read_csv(ratings_file)"
   ]
  },
  {
   "cell_type": "code",
   "execution_count": 5,
   "metadata": {},
   "outputs": [
    {
     "data": {
      "text/html": [
       "<div>\n",
       "<style scoped>\n",
       "    .dataframe tbody tr th:only-of-type {\n",
       "        vertical-align: middle;\n",
       "    }\n",
       "\n",
       "    .dataframe tbody tr th {\n",
       "        vertical-align: top;\n",
       "    }\n",
       "\n",
       "    .dataframe thead th {\n",
       "        text-align: right;\n",
       "    }\n",
       "</style>\n",
       "<table border=\"1\" class=\"dataframe\">\n",
       "  <thead>\n",
       "    <tr style=\"text-align: right;\">\n",
       "      <th></th>\n",
       "      <th>user</th>\n",
       "      <th>movie</th>\n",
       "      <th>rating</th>\n",
       "    </tr>\n",
       "  </thead>\n",
       "  <tbody>\n",
       "    <tr>\n",
       "      <th>0</th>\n",
       "      <td>2783</td>\n",
       "      <td>1253</td>\n",
       "      <td>5</td>\n",
       "    </tr>\n",
       "    <tr>\n",
       "      <th>1</th>\n",
       "      <td>2783</td>\n",
       "      <td>589</td>\n",
       "      <td>5</td>\n",
       "    </tr>\n",
       "    <tr>\n",
       "      <th>2</th>\n",
       "      <td>2783</td>\n",
       "      <td>1270</td>\n",
       "      <td>4</td>\n",
       "    </tr>\n",
       "    <tr>\n",
       "      <th>3</th>\n",
       "      <td>2783</td>\n",
       "      <td>1274</td>\n",
       "      <td>4</td>\n",
       "    </tr>\n",
       "    <tr>\n",
       "      <th>4</th>\n",
       "      <td>2783</td>\n",
       "      <td>741</td>\n",
       "      <td>5</td>\n",
       "    </tr>\n",
       "    <tr>\n",
       "      <th>5</th>\n",
       "      <td>2783</td>\n",
       "      <td>750</td>\n",
       "      <td>5</td>\n",
       "    </tr>\n",
       "    <tr>\n",
       "      <th>6</th>\n",
       "      <td>2783</td>\n",
       "      <td>924</td>\n",
       "      <td>5</td>\n",
       "    </tr>\n",
       "    <tr>\n",
       "      <th>7</th>\n",
       "      <td>2783</td>\n",
       "      <td>2407</td>\n",
       "      <td>4</td>\n",
       "    </tr>\n",
       "    <tr>\n",
       "      <th>8</th>\n",
       "      <td>2783</td>\n",
       "      <td>3070</td>\n",
       "      <td>3</td>\n",
       "    </tr>\n",
       "    <tr>\n",
       "      <th>9</th>\n",
       "      <td>2783</td>\n",
       "      <td>208</td>\n",
       "      <td>1</td>\n",
       "    </tr>\n",
       "  </tbody>\n",
       "</table>\n",
       "</div>"
      ],
      "text/plain": [
       "   user  movie  rating\n",
       "0  2783   1253       5\n",
       "1  2783    589       5\n",
       "2  2783   1270       4\n",
       "3  2783   1274       4\n",
       "4  2783    741       5\n",
       "5  2783    750       5\n",
       "6  2783    924       5\n",
       "7  2783   2407       4\n",
       "8  2783   3070       3\n",
       "9  2783    208       1"
      ]
     },
     "execution_count": 5,
     "metadata": {},
     "output_type": "execute_result"
    }
   ],
   "source": [
    "ratings_df[:10]"
   ]
  },
  {
   "cell_type": "code",
   "execution_count": 6,
   "metadata": {},
   "outputs": [],
   "source": [
    "users_file = os.path.join(os.path.pardir, 'processed', 'users_processed.dat')\n",
    "users_df = pd.read_csv(users_file, sep='::', engine='python')"
   ]
  },
  {
   "cell_type": "code",
   "execution_count": 7,
   "metadata": {},
   "outputs": [
    {
     "data": {
      "text/html": [
       "<div>\n",
       "<style scoped>\n",
       "    .dataframe tbody tr th:only-of-type {\n",
       "        vertical-align: middle;\n",
       "    }\n",
       "\n",
       "    .dataframe tbody tr th {\n",
       "        vertical-align: top;\n",
       "    }\n",
       "\n",
       "    .dataframe thead th {\n",
       "        text-align: right;\n",
       "    }\n",
       "</style>\n",
       "<table border=\"1\" class=\"dataframe\">\n",
       "  <thead>\n",
       "    <tr style=\"text-align: right;\">\n",
       "      <th></th>\n",
       "      <th>id</th>\n",
       "      <th>gender</th>\n",
       "      <th>age_group</th>\n",
       "      <th>occupation</th>\n",
       "      <th>zip_code</th>\n",
       "    </tr>\n",
       "  </thead>\n",
       "  <tbody>\n",
       "    <tr>\n",
       "      <th>0</th>\n",
       "      <td>1</td>\n",
       "      <td>F</td>\n",
       "      <td>1</td>\n",
       "      <td>10</td>\n",
       "      <td>48067</td>\n",
       "    </tr>\n",
       "    <tr>\n",
       "      <th>1</th>\n",
       "      <td>2</td>\n",
       "      <td>M</td>\n",
       "      <td>56</td>\n",
       "      <td>16</td>\n",
       "      <td>70072</td>\n",
       "    </tr>\n",
       "    <tr>\n",
       "      <th>2</th>\n",
       "      <td>3</td>\n",
       "      <td>M</td>\n",
       "      <td>25</td>\n",
       "      <td>15</td>\n",
       "      <td>55117</td>\n",
       "    </tr>\n",
       "    <tr>\n",
       "      <th>3</th>\n",
       "      <td>4</td>\n",
       "      <td>M</td>\n",
       "      <td>45</td>\n",
       "      <td>7</td>\n",
       "      <td>02460</td>\n",
       "    </tr>\n",
       "    <tr>\n",
       "      <th>4</th>\n",
       "      <td>5</td>\n",
       "      <td>M</td>\n",
       "      <td>25</td>\n",
       "      <td>20</td>\n",
       "      <td>55455</td>\n",
       "    </tr>\n",
       "    <tr>\n",
       "      <th>5</th>\n",
       "      <td>6</td>\n",
       "      <td>F</td>\n",
       "      <td>50</td>\n",
       "      <td>9</td>\n",
       "      <td>55117</td>\n",
       "    </tr>\n",
       "    <tr>\n",
       "      <th>6</th>\n",
       "      <td>7</td>\n",
       "      <td>M</td>\n",
       "      <td>35</td>\n",
       "      <td>1</td>\n",
       "      <td>06810</td>\n",
       "    </tr>\n",
       "    <tr>\n",
       "      <th>7</th>\n",
       "      <td>8</td>\n",
       "      <td>M</td>\n",
       "      <td>25</td>\n",
       "      <td>12</td>\n",
       "      <td>11413</td>\n",
       "    </tr>\n",
       "    <tr>\n",
       "      <th>8</th>\n",
       "      <td>9</td>\n",
       "      <td>M</td>\n",
       "      <td>25</td>\n",
       "      <td>17</td>\n",
       "      <td>61614</td>\n",
       "    </tr>\n",
       "    <tr>\n",
       "      <th>9</th>\n",
       "      <td>10</td>\n",
       "      <td>F</td>\n",
       "      <td>35</td>\n",
       "      <td>1</td>\n",
       "      <td>95370</td>\n",
       "    </tr>\n",
       "  </tbody>\n",
       "</table>\n",
       "</div>"
      ],
      "text/plain": [
       "   id gender  age_group  occupation zip_code\n",
       "0   1      F          1          10    48067\n",
       "1   2      M         56          16    70072\n",
       "2   3      M         25          15    55117\n",
       "3   4      M         45           7    02460\n",
       "4   5      M         25          20    55455\n",
       "5   6      F         50           9    55117\n",
       "6   7      M         35           1    06810\n",
       "7   8      M         25          12    11413\n",
       "8   9      M         25          17    61614\n",
       "9  10      F         35           1    95370"
      ]
     },
     "execution_count": 7,
     "metadata": {},
     "output_type": "execute_result"
    }
   ],
   "source": [
    "users_df[:10]"
   ]
  },
  {
   "cell_type": "markdown",
   "metadata": {},
   "source": [
    "Now we'll get the list of genres"
   ]
  },
  {
   "cell_type": "code",
   "execution_count": 8,
   "metadata": {},
   "outputs": [],
   "source": [
    "split_genres = [row.split('|') for row in movies_df.genres]\n",
    "genre_list = np.concatenate(split_genres)"
   ]
  },
  {
   "cell_type": "code",
   "execution_count": 9,
   "metadata": {},
   "outputs": [
    {
     "data": {
      "text/plain": [
       "array(['Animation', \"Children's\", 'Comedy', ..., 'Drama', 'Drama',\n",
       "       'Thriller'], dtype='<U11')"
      ]
     },
     "execution_count": 9,
     "metadata": {},
     "output_type": "execute_result"
    }
   ],
   "source": [
    "genre_list"
   ]
  },
  {
   "cell_type": "code",
   "execution_count": 10,
   "metadata": {},
   "outputs": [],
   "source": [
    "unique_genres = np.unique(genre_list)"
   ]
  },
  {
   "cell_type": "code",
   "execution_count": 11,
   "metadata": {},
   "outputs": [
    {
     "data": {
      "text/plain": [
       "array(['Action', 'Adventure', 'Animation', \"Children's\", 'Comedy',\n",
       "       'Crime', 'Documentary', 'Drama', 'Fantasy', 'Film-Noir', 'Horror',\n",
       "       'Musical', 'Mystery', 'Romance', 'Sci-Fi', 'Thriller', 'War',\n",
       "       'Western'], dtype='<U11')"
      ]
     },
     "execution_count": 11,
     "metadata": {},
     "output_type": "execute_result"
    }
   ],
   "source": [
    "unique_genres"
   ]
  },
  {
   "cell_type": "markdown",
   "metadata": {},
   "source": [
    "**Question 1:** What genres have the highest median rating?  \n",
    "Answering this question is one way to figure out what kind of movies to show more. This doesn't mean we need to ignore other genres, but perhaps we could suggest movies according to this.  \n",
    "\n",
    "**Related Question:** What genre has the highest number of 5-star ratings?"
   ]
  },
  {
   "cell_type": "code",
   "execution_count": 12,
   "metadata": {},
   "outputs": [],
   "source": [
    "# Movies, genres, and rating DataFrame\n",
    "movies_df.columns = ['movie', 'year', 'genres']\n",
    "mgr_df = movies_df.merge(ratings_df, how='inner', on='movie')"
   ]
  },
  {
   "cell_type": "code",
   "execution_count": 13,
   "metadata": {},
   "outputs": [
    {
     "data": {
      "text/plain": [
       "array([1, 2, 3, 4, 5])"
      ]
     },
     "execution_count": 13,
     "metadata": {},
     "output_type": "execute_result"
    }
   ],
   "source": [
    "np.unique(ratings_df['rating'])"
   ]
  },
  {
   "cell_type": "code",
   "execution_count": 14,
   "metadata": {},
   "outputs": [
    {
     "data": {
      "text/html": [
       "<div>\n",
       "<style scoped>\n",
       "    .dataframe tbody tr th:only-of-type {\n",
       "        vertical-align: middle;\n",
       "    }\n",
       "\n",
       "    .dataframe tbody tr th {\n",
       "        vertical-align: top;\n",
       "    }\n",
       "\n",
       "    .dataframe thead th {\n",
       "        text-align: right;\n",
       "    }\n",
       "</style>\n",
       "<table border=\"1\" class=\"dataframe\">\n",
       "  <thead>\n",
       "    <tr style=\"text-align: right;\">\n",
       "      <th></th>\n",
       "      <th>movie</th>\n",
       "      <th>year</th>\n",
       "      <th>genres</th>\n",
       "      <th>user</th>\n",
       "      <th>rating</th>\n",
       "    </tr>\n",
       "  </thead>\n",
       "  <tbody>\n",
       "    <tr>\n",
       "      <th>0</th>\n",
       "      <td>1</td>\n",
       "      <td>1995</td>\n",
       "      <td>Animation|Children's|Comedy</td>\n",
       "      <td>2787</td>\n",
       "      <td>5</td>\n",
       "    </tr>\n",
       "    <tr>\n",
       "      <th>1</th>\n",
       "      <td>1</td>\n",
       "      <td>1995</td>\n",
       "      <td>Animation|Children's|Comedy</td>\n",
       "      <td>2788</td>\n",
       "      <td>5</td>\n",
       "    </tr>\n",
       "    <tr>\n",
       "      <th>2</th>\n",
       "      <td>1</td>\n",
       "      <td>1995</td>\n",
       "      <td>Animation|Children's|Comedy</td>\n",
       "      <td>2792</td>\n",
       "      <td>3</td>\n",
       "    </tr>\n",
       "    <tr>\n",
       "      <th>3</th>\n",
       "      <td>1</td>\n",
       "      <td>1995</td>\n",
       "      <td>Animation|Children's|Comedy</td>\n",
       "      <td>2796</td>\n",
       "      <td>3</td>\n",
       "    </tr>\n",
       "    <tr>\n",
       "      <th>4</th>\n",
       "      <td>1</td>\n",
       "      <td>1995</td>\n",
       "      <td>Animation|Children's|Comedy</td>\n",
       "      <td>2799</td>\n",
       "      <td>5</td>\n",
       "    </tr>\n",
       "    <tr>\n",
       "      <th>5</th>\n",
       "      <td>1</td>\n",
       "      <td>1995</td>\n",
       "      <td>Animation|Children's|Comedy</td>\n",
       "      <td>2806</td>\n",
       "      <td>2</td>\n",
       "    </tr>\n",
       "    <tr>\n",
       "      <th>6</th>\n",
       "      <td>1</td>\n",
       "      <td>1995</td>\n",
       "      <td>Animation|Children's|Comedy</td>\n",
       "      <td>2807</td>\n",
       "      <td>3</td>\n",
       "    </tr>\n",
       "    <tr>\n",
       "      <th>7</th>\n",
       "      <td>1</td>\n",
       "      <td>1995</td>\n",
       "      <td>Animation|Children's|Comedy</td>\n",
       "      <td>2809</td>\n",
       "      <td>5</td>\n",
       "    </tr>\n",
       "    <tr>\n",
       "      <th>8</th>\n",
       "      <td>1</td>\n",
       "      <td>1995</td>\n",
       "      <td>Animation|Children's|Comedy</td>\n",
       "      <td>2810</td>\n",
       "      <td>4</td>\n",
       "    </tr>\n",
       "    <tr>\n",
       "      <th>9</th>\n",
       "      <td>1</td>\n",
       "      <td>1995</td>\n",
       "      <td>Animation|Children's|Comedy</td>\n",
       "      <td>2812</td>\n",
       "      <td>3</td>\n",
       "    </tr>\n",
       "  </tbody>\n",
       "</table>\n",
       "</div>"
      ],
      "text/plain": [
       "   movie  year                       genres  user  rating\n",
       "0      1  1995  Animation|Children's|Comedy  2787       5\n",
       "1      1  1995  Animation|Children's|Comedy  2788       5\n",
       "2      1  1995  Animation|Children's|Comedy  2792       3\n",
       "3      1  1995  Animation|Children's|Comedy  2796       3\n",
       "4      1  1995  Animation|Children's|Comedy  2799       5\n",
       "5      1  1995  Animation|Children's|Comedy  2806       2\n",
       "6      1  1995  Animation|Children's|Comedy  2807       3\n",
       "7      1  1995  Animation|Children's|Comedy  2809       5\n",
       "8      1  1995  Animation|Children's|Comedy  2810       4\n",
       "9      1  1995  Animation|Children's|Comedy  2812       3"
      ]
     },
     "execution_count": 14,
     "metadata": {},
     "output_type": "execute_result"
    }
   ],
   "source": [
    "mgr_df[:10]"
   ]
  },
  {
   "cell_type": "code",
   "execution_count": 15,
   "metadata": {},
   "outputs": [],
   "source": [
    "genre_rating_maps = {}\n",
    "for genre in unique_genres:\n",
    "    genre_rating_maps[genre] = []"
   ]
  },
  {
   "cell_type": "code",
   "execution_count": 16,
   "metadata": {},
   "outputs": [
    {
     "data": {
      "text/plain": [
       "{'Action': [],\n",
       " 'Adventure': [],\n",
       " 'Animation': [],\n",
       " \"Children's\": [],\n",
       " 'Comedy': [],\n",
       " 'Crime': [],\n",
       " 'Documentary': [],\n",
       " 'Drama': [],\n",
       " 'Fantasy': [],\n",
       " 'Film-Noir': [],\n",
       " 'Horror': [],\n",
       " 'Musical': [],\n",
       " 'Mystery': [],\n",
       " 'Romance': [],\n",
       " 'Sci-Fi': [],\n",
       " 'Thriller': [],\n",
       " 'War': [],\n",
       " 'Western': []}"
      ]
     },
     "execution_count": 16,
     "metadata": {},
     "output_type": "execute_result"
    }
   ],
   "source": [
    "genre_rating_maps"
   ]
  },
  {
   "cell_type": "markdown",
   "metadata": {},
   "source": [
    "Caution: The cell below may take quite a long time."
   ]
  },
  {
   "cell_type": "code",
   "execution_count": 17,
   "metadata": {},
   "outputs": [],
   "source": [
    "for _, row in mgr_df.iterrows():\n",
    "    cur_genres = row['genres'].split('|')\n",
    "    for genre in cur_genres:\n",
    "        genre_rating_maps[genre].append(row['rating'])"
   ]
  },
  {
   "cell_type": "code",
   "execution_count": 18,
   "metadata": {},
   "outputs": [
    {
     "data": {
      "text/plain": [
       "array([1, 2, 3, 4, 5])"
      ]
     },
     "execution_count": 18,
     "metadata": {},
     "output_type": "execute_result"
    }
   ],
   "source": [
    "np.unique(genre_rating_maps['Action'])"
   ]
  },
  {
   "cell_type": "code",
   "execution_count": 19,
   "metadata": {},
   "outputs": [],
   "source": [
    "mean_genre_ratings = { genre: np.mean(genre_rating_maps[genre]) for genre in unique_genres }"
   ]
  },
  {
   "cell_type": "code",
   "execution_count": 20,
   "metadata": {},
   "outputs": [
    {
     "data": {
      "text/plain": [
       "{'Action': 3.5179209577949004,\n",
       " 'Adventure': 3.49860188745194,\n",
       " 'Animation': 3.712814811234108,\n",
       " \"Children's\": 3.44031477340278,\n",
       " 'Comedy': 3.5405990412619985,\n",
       " 'Crime': 3.7325746104625606,\n",
       " 'Documentary': 3.944087747458534,\n",
       " 'Drama': 3.778878899332516,\n",
       " 'Fantasy': 3.473888534354393,\n",
       " 'Film-Noir': 4.083637534893708,\n",
       " 'Horror': 3.2375813810427028,\n",
       " 'Musical': 3.6805308861259127,\n",
       " 'Mystery': 3.69995129079396,\n",
       " 'Romance': 3.6272556390977444,\n",
       " 'Sci-Fi': 3.492791514155524,\n",
       " 'Thriller': 3.6062334972819055,\n",
       " 'War': 3.9075070458621575,\n",
       " 'Western': 3.6725688073394496}"
      ]
     },
     "execution_count": 20,
     "metadata": {},
     "output_type": "execute_result"
    }
   ],
   "source": [
    "mean_genre_ratings"
   ]
  },
  {
   "cell_type": "code",
   "execution_count": 21,
   "metadata": {},
   "outputs": [],
   "source": [
    "median_genre_ratings = { genre: np.median(genre_rating_maps[genre]) for genre in unique_genres }"
   ]
  },
  {
   "cell_type": "code",
   "execution_count": 22,
   "metadata": {},
   "outputs": [
    {
     "data": {
      "text/plain": [
       "{'Action': 4.0,\n",
       " 'Adventure': 4.0,\n",
       " 'Animation': 4.0,\n",
       " \"Children's\": 4.0,\n",
       " 'Comedy': 4.0,\n",
       " 'Crime': 4.0,\n",
       " 'Documentary': 4.0,\n",
       " 'Drama': 4.0,\n",
       " 'Fantasy': 4.0,\n",
       " 'Film-Noir': 4.0,\n",
       " 'Horror': 3.0,\n",
       " 'Musical': 4.0,\n",
       " 'Mystery': 4.0,\n",
       " 'Romance': 4.0,\n",
       " 'Sci-Fi': 4.0,\n",
       " 'Thriller': 4.0,\n",
       " 'War': 4.0,\n",
       " 'Western': 4.0}"
      ]
     },
     "execution_count": 22,
     "metadata": {},
     "output_type": "execute_result"
    }
   ],
   "source": [
    "median_genre_ratings"
   ]
  },
  {
   "cell_type": "markdown",
   "metadata": {},
   "source": [
    "This doesn't tell us anything at all, really. Horror has an unusually low median, so either people don't like that genre, or there are many ratings on the lower side."
   ]
  },
  {
   "cell_type": "code",
   "execution_count": 23,
   "metadata": {},
   "outputs": [],
   "source": [
    "import operator\n",
    "sorted_mean_ratings = sorted(mean_genre_ratings.items(), key=operator.itemgetter(1), reverse=True)"
   ]
  },
  {
   "cell_type": "code",
   "execution_count": 24,
   "metadata": {},
   "outputs": [
    {
     "data": {
      "text/plain": [
       "[('Film-Noir', 4.083637534893708),\n",
       " ('Documentary', 3.944087747458534),\n",
       " ('War', 3.9075070458621575),\n",
       " ('Drama', 3.778878899332516),\n",
       " ('Crime', 3.7325746104625606),\n",
       " ('Animation', 3.712814811234108),\n",
       " ('Mystery', 3.69995129079396),\n",
       " ('Musical', 3.6805308861259127),\n",
       " ('Western', 3.6725688073394496),\n",
       " ('Romance', 3.6272556390977444),\n",
       " ('Thriller', 3.6062334972819055),\n",
       " ('Comedy', 3.5405990412619985),\n",
       " ('Action', 3.5179209577949004),\n",
       " ('Adventure', 3.49860188745194),\n",
       " ('Sci-Fi', 3.492791514155524),\n",
       " ('Fantasy', 3.473888534354393),\n",
       " (\"Children's\", 3.44031477340278),\n",
       " ('Horror', 3.2375813810427028)]"
      ]
     },
     "execution_count": 24,
     "metadata": {},
     "output_type": "execute_result"
    }
   ],
   "source": [
    "sorted_mean_ratings"
   ]
  },
  {
   "cell_type": "markdown",
   "metadata": {},
   "source": [
    "The above is the descending order of mean ratings of each genre. Thus, from the mean and median genre ratings, we conclude that horror movies aren't liked as much. In contrast, Film-Noir and Documentary films seem to have the highest mean ratings.  \n",
    "\n",
    "This doesn't necessarily mean that they're the most liked. In notebook 2, we remarked how Film-Noir had the least number of ratings. Thus, one way to interpret this is that only people who like the Film-Noir genre watch and rate those movies, but a much larger number of people watch other genres, and some people watching those genres, having been disappointed by some movie, might have given lower ratings. Alternatively, a few bad movies in some genre could bring down its mean rating.  \n",
    "\n",
    "One thing to note, is that Drama movies have the fourth-highest mean rating, but they also have the most number of ratings (from notebook 2). This means these movies are consistently good.  \n",
    "\n",
    "**Conclusion #1:** Drama movies are consistently good, as they have the highest number of ratings and a high mean rating. People who watch film-noir, documentary, and war movies tend to like and give higher ratings to other movies in those genres as well. Horror movies don't seem to perform very well."
   ]
  },
  {
   "cell_type": "markdown",
   "metadata": {},
   "source": [
    "We now plot the distribution of ratings for each genre."
   ]
  },
  {
   "cell_type": "code",
   "execution_count": 25,
   "metadata": {},
   "outputs": [],
   "source": [
    "import matplotlib.pyplot as plt"
   ]
  },
  {
   "cell_type": "code",
   "execution_count": 26,
   "metadata": {},
   "outputs": [
    {
     "data": {
      "image/png": "[encoded data removed]",
      "text/plain": [
       "<Figure size 1152x1728 with 18 Axes>"
      ]
     },
     "metadata": {},
     "output_type": "display_data"
    }
   ],
   "source": [
    "i = 0\n",
    "plt.figure(figsize=(16, 24))\n",
    "plt.subplots_adjust(wspace=0.25, hspace=0.5)\n",
    "for genre, ratings in genre_rating_maps.items():\n",
    "    plt.subplot(6, 3, i + 1)\n",
    "    plt.title(genre)\n",
    "    plt.hist(ratings, color='c')\n",
    "    i += 1\n",
    "plt.show()"
   ]
  },
  {
   "cell_type": "markdown",
   "metadata": {},
   "source": [
    "Unsurprisingly, drama also has the highest number of 5-star ratings."
   ]
  },
  {
   "cell_type": "markdown",
   "metadata": {},
   "source": [
    "We now look at our next question:\n",
    "\n",
    "**Question 2:** What age groups like what genres the most?  \n",
    "This directly helps give targeted suggestions, and helps give an even more solid business model. We'll go one step further and do this analysis for both genders separately, as well as combining the genders."
   ]
  },
  {
   "cell_type": "code",
   "execution_count": 27,
   "metadata": {},
   "outputs": [
    {
     "name": "stdout",
     "output_type": "stream",
     "text": [
      "Index(['movie', 'year', 'genres'], dtype='object')\n",
      "Index(['id', 'gender', 'age_group', 'occupation', 'zip_code'], dtype='object')\n",
      "Index(['user', 'movie', 'rating'], dtype='object')\n"
     ]
    }
   ],
   "source": [
    "# Just to recap:\n",
    "print(movies_df.columns)\n",
    "print(users_df.columns)\n",
    "print(ratings_df.columns)"
   ]
  },
  {
   "cell_type": "markdown",
   "metadata": {},
   "source": [
    "We need to find, for each age group, the highest rated genre (basically, what we did above, but for each age group)."
   ]
  },
  {
   "cell_type": "code",
   "execution_count": 28,
   "metadata": {},
   "outputs": [],
   "source": [
    "age_grouped_users = list(users_df.groupby('age_group'))"
   ]
  },
  {
   "cell_type": "code",
   "execution_count": 29,
   "metadata": {},
   "outputs": [
    {
     "data": {
      "text/html": [
       "<div>\n",
       "<style scoped>\n",
       "    .dataframe tbody tr th:only-of-type {\n",
       "        vertical-align: middle;\n",
       "    }\n",
       "\n",
       "    .dataframe tbody tr th {\n",
       "        vertical-align: top;\n",
       "    }\n",
       "\n",
       "    .dataframe thead th {\n",
       "        text-align: right;\n",
       "    }\n",
       "</style>\n",
       "<table border=\"1\" class=\"dataframe\">\n",
       "  <thead>\n",
       "    <tr style=\"text-align: right;\">\n",
       "      <th></th>\n",
       "      <th>id</th>\n",
       "      <th>gender</th>\n",
       "      <th>age_group</th>\n",
       "      <th>occupation</th>\n",
       "      <th>zip_code</th>\n",
       "    </tr>\n",
       "  </thead>\n",
       "  <tbody>\n",
       "    <tr>\n",
       "      <th>0</th>\n",
       "      <td>1</td>\n",
       "      <td>F</td>\n",
       "      <td>1</td>\n",
       "      <td>10</td>\n",
       "      <td>48067</td>\n",
       "    </tr>\n",
       "    <tr>\n",
       "      <th>18</th>\n",
       "      <td>19</td>\n",
       "      <td>M</td>\n",
       "      <td>1</td>\n",
       "      <td>10</td>\n",
       "      <td>48073</td>\n",
       "    </tr>\n",
       "    <tr>\n",
       "      <th>50</th>\n",
       "      <td>51</td>\n",
       "      <td>F</td>\n",
       "      <td>1</td>\n",
       "      <td>10</td>\n",
       "      <td>10562</td>\n",
       "    </tr>\n",
       "    <tr>\n",
       "      <th>74</th>\n",
       "      <td>75</td>\n",
       "      <td>F</td>\n",
       "      <td>1</td>\n",
       "      <td>10</td>\n",
       "      <td>01748</td>\n",
       "    </tr>\n",
       "    <tr>\n",
       "      <th>85</th>\n",
       "      <td>86</td>\n",
       "      <td>F</td>\n",
       "      <td>1</td>\n",
       "      <td>10</td>\n",
       "      <td>54467</td>\n",
       "    </tr>\n",
       "  </tbody>\n",
       "</table>\n",
       "</div>"
      ],
      "text/plain": [
       "    id gender  age_group  occupation zip_code\n",
       "0    1      F          1          10    48067\n",
       "18  19      M          1          10    48073\n",
       "50  51      F          1          10    10562\n",
       "74  75      F          1          10    01748\n",
       "85  86      F          1          10    54467"
      ]
     },
     "execution_count": 29,
     "metadata": {},
     "output_type": "execute_result"
    }
   ],
   "source": [
    "age_grouped_users[0][1][:5]"
   ]
  },
  {
   "cell_type": "code",
   "execution_count": 30,
   "metadata": {},
   "outputs": [],
   "source": [
    "import operator"
   ]
  },
  {
   "cell_type": "markdown",
   "metadata": {},
   "source": [
    "The cell below summarizes the data required to answer the second question. It will take some time."
   ]
  },
  {
   "cell_type": "code",
   "execution_count": 52,
   "metadata": {},
   "outputs": [
    {
     "name": "stdout",
     "output_type": "stream",
     "text": [
      "\n",
      "Age group =  1\n",
      "Sorted mean ratings:\n",
      "('Film-Noir', 3.9270833333333335)\n",
      "('War', 3.8344709897610922)\n",
      "('Romance', 3.740335521517141)\n",
      "('Drama', 3.7205938332698896)\n",
      "('Crime', 3.7050610820244327)\n",
      "('Mystery', 3.6612377850162865)\n",
      "('Thriller', 3.615979381443299)\n",
      "('Comedy', 3.6158618829241975)\n",
      "('Sci-Fi', 3.5988103106411105)\n",
      "('Western', 3.5961538461538463)\n",
      "('Action', 3.59106529209622)\n",
      "('Musical', 3.5306704707560628)\n",
      "('Adventure', 3.5145442792501616)\n",
      "('Animation', 3.4164989939637826)\n",
      "('Fantasy', 3.363951473136915)\n",
      "(\"Children's\", 3.1969026548672566)\n",
      "('Documentary', 3.1842105263157894)\n",
      "('Horror', 3.1078167115902966)\n",
      "Number of ratings per genre:\n",
      "Action: 2328\n",
      "Adventure: 1547\n",
      "Animation: 994\n",
      "Children's: 1808\n",
      "Comedy: 3707\n",
      "Crime: 573\n",
      "Documentary: 38\n",
      "Drama: 2627\n",
      "Fantasy: 577\n",
      "Film-Noir: 96\n",
      "Horror: 742\n",
      "Musical: 701\n",
      "Mystery: 307\n",
      "Romance: 1371\n",
      "Sci-Fi: 1513\n",
      "Thriller: 1552\n",
      "War: 586\n",
      "Western: 104\n",
      "\n",
      "Age group =  18\n",
      "Sorted mean ratings:\n",
      "('Film-Noir', 4.02705223880597)\n",
      "('Documentary', 4.01440329218107)\n",
      "('War', 3.870930005849093)\n",
      "('Drama', 3.771143140395028)\n",
      "('Crime', 3.736900165471594)\n",
      "('Animation', 3.6326301615798924)\n",
      "('Mystery', 3.595956134338588)\n",
      "('Thriller', 3.59136109384711)\n",
      "('Musical', 3.58253873659118)\n",
      "('Romance', 3.5793886019137946)\n",
      "('Western', 3.5529595015576323)\n",
      "('Action', 3.504241571799042)\n",
      "('Comedy', 3.500031952965235)\n",
      "('Sci-Fi', 3.4767353743558655)\n",
      "('Adventure', 3.4527627752388867)\n",
      "('Fantasy', 3.396393972012917)\n",
      "(\"Children's\", 3.3216773664799892)\n",
      "('Horror', 3.274091171379111)\n",
      "Number of ratings per genre:\n",
      "Action: 22751\n",
      "Adventure: 12035\n",
      "Animation: 4456\n",
      "Children's: 7321\n",
      "Comedy: 31296\n",
      "Crime: 7252\n",
      "Documentary: 486\n",
      "Drama: 26226\n",
      "Fantasy: 3716\n",
      "Film-Noir: 1072\n",
      "Horror: 6932\n",
      "Musical: 3356\n",
      "Mystery: 2918\n",
      "Romance: 11809\n",
      "Sci-Fi: 13196\n",
      "Thriller: 16090\n",
      "War: 5129\n",
      "Western: 1284\n",
      "\n",
      "Age group =  25\n",
      "Sorted mean ratings:\n",
      "('Film-Noir', 4.082497851618448)\n",
      "('Documentary', 3.9547563805104406)\n",
      "('War', 3.880459600795463)\n",
      "('Animation', 3.7620598922440798)\n",
      "('Drama', 3.756084063144205)\n",
      "('Crime', 3.711732279080127)\n",
      "('Western', 3.656568294593889)\n",
      "('Mystery', 3.6476319684262455)\n",
      "('Musical', 3.6403075233388247)\n",
      "('Thriller', 3.5817674551697825)\n",
      "('Romance', 3.5665236051502145)\n",
      "('Comedy', 3.501341971309579)\n",
      "('Action', 3.493506940856326)\n",
      "('Fantasy', 3.4915628245067496)\n",
      "('Sci-Fi', 3.4833779692594318)\n",
      "('Adventure', 3.477125548360142)\n",
      "(\"Children's\", 3.4461526516033856)\n",
      "('Horror', 3.24435036670443)\n",
      "Number of ratings per genre:\n",
      "Action: 58062\n",
      "Adventure: 28722\n",
      "Animation: 7981\n",
      "Children's: 12879\n",
      "Comedy: 75635\n",
      "Crime: 17959\n",
      "Documentary: 1724\n",
      "Drama: 72279\n",
      "Fantasy: 7704\n",
      "Film-Noir: 3491\n",
      "Horror: 16771\n",
      "Musical: 7284\n",
      "Mystery: 8108\n",
      "Romance: 31455\n",
      "Sci-Fi: 34352\n",
      "Thriller: 41936\n",
      "War: 13577\n",
      "Western: 3829\n",
      "\n",
      "Age group =  35\n",
      "Sorted mean ratings:\n",
      "('Film-Noir', 4.063939821344617)\n",
      "('Documentary', 3.9508196721311477)\n",
      "('War', 3.9117685733070346)\n",
      "('Drama', 3.776851801085586)\n",
      "('Animation', 3.7594263243118204)\n",
      "('Crime', 3.7459100204498976)\n",
      "('Western', 3.716841695838195)\n",
      "('Musical', 3.7111410601976638)\n",
      "('Mystery', 3.7046871392288154)\n",
      "('Romance', 3.6653774339823952)\n",
      "('Thriller', 3.633947354918159)\n",
      "('Comedy', 3.5994901572015294)\n",
      "('Action', 3.5665686529943796)\n",
      "('Adventure', 3.5395494279013575)\n",
      "(\"Children's\", 3.5360742705570294)\n",
      "('Sci-Fi', 3.520074479227278)\n",
      "('Fantasy', 3.4984358706986445)\n",
      "('Horror', 3.284871794871795)\n",
      "Number of ratings per genre:\n",
      "Action: 26867\n",
      "Adventure: 14071\n",
      "Animation: 4323\n",
      "Children's: 7540\n",
      "Comedy: 35305\n",
      "Crime: 7824\n",
      "Documentary: 793\n",
      "Drama: 36478\n",
      "Fantasy: 3836\n",
      "Film-Noir: 2127\n",
      "Horror: 7800\n",
      "Musical: 4452\n",
      "Mystery: 4331\n",
      "Romance: 14996\n",
      "Sci-Fi: 17186\n",
      "Thriller: 19489\n",
      "War: 7605\n",
      "Western: 2571\n",
      "\n",
      "Age group =  45\n",
      "Sorted mean ratings:\n",
      "('Film-Noir', 4.088205128205129)\n",
      "('War', 3.9607843137254903)\n",
      "('Documentary', 3.9539877300613497)\n",
      "('Mystery', 3.7796690307328604)\n",
      "('Drama', 3.775421686746988)\n",
      "('Musical', 3.76708984375)\n",
      "('Animation', 3.7379679144385025)\n",
      "('Crime', 3.7324820928059794)\n",
      "('Romance', 3.7065805288461537)\n",
      "('Western', 3.642078792958927)\n",
      "('Thriller', 3.6027550260610575)\n",
      "('Comedy', 3.5810170887379043)\n",
      "(\"Children's\", 3.52233676975945)\n",
      "('Fantasy', 3.520109066121336)\n",
      "('Adventure', 3.47216459197787)\n",
      "('Action', 3.4594696612248748)\n",
      "('Sci-Fi', 3.4547129695251595)\n",
      "('Horror', 3.2309673726388093)\n",
      "Number of ratings per genre:\n",
      "Action: 10597\n",
      "Adventure: 5784\n",
      "Animation: 1496\n",
      "Children's: 2910\n",
      "Comedy: 14571\n",
      "Crime: 3211\n",
      "Documentary: 326\n",
      "Drama: 16600\n",
      "Fantasy: 1467\n",
      "Film-Noir: 975\n",
      "Horror: 3494\n",
      "Musical: 2048\n",
      "Mystery: 2115\n",
      "Romance: 6656\n",
      "Sci-Fi: 7055\n",
      "Thriller: 8058\n",
      "War: 3519\n",
      "Western: 1193\n",
      "\n",
      "Age group =  50\n",
      "Sorted mean ratings:\n",
      "('Film-Noir', 4.199590583418629)\n",
      "('War', 3.967278797996661)\n",
      "('Mystery', 3.902690326273612)\n",
      "('Drama', 3.878726920037359)\n",
      "('Musical', 3.837516512549538)\n",
      "('Documentary', 3.802371541501976)\n",
      "('Crime', 3.800826756858324)\n",
      "('Romance', 3.7883389576302964)\n",
      "('Animation', 3.7541789577187807)\n",
      "('Western', 3.7205638474295193)\n",
      "('Thriller', 3.6924023377422333)\n",
      "('Comedy', 3.6576290201944652)\n",
      "('Adventure', 3.599866250557289)\n",
      "('Action', 3.58313194780087)\n",
      "(\"Children's\", 3.5364206464061745)\n",
      "('Fantasy', 3.531657355679702)\n",
      "('Sci-Fi', 3.520380952380952)\n",
      "('Horror', 2.991993594875901)\n",
      "Number of ratings per genre:\n",
      "Action: 8276\n",
      "Adventure: 4486\n",
      "Animation: 1017\n",
      "Children's: 2073\n",
      "Comedy: 10696\n",
      "Crime: 2661\n",
      "Documentary: 253\n",
      "Drama: 13919\n",
      "Fantasy: 1074\n",
      "Film-Noir: 977\n",
      "Horror: 2498\n",
      "Musical: 1514\n",
      "Mystery: 1747\n",
      "Romance: 5334\n",
      "Sci-Fi: 5250\n",
      "Thriller: 6502\n",
      "War: 2995\n",
      "Western: 1206\n",
      "\n",
      "Age group =  56\n",
      "Sorted mean ratings:\n",
      "('Film-Noir', 4.090277777777778)\n",
      "('War', 4.023310023310024)\n",
      "('Documentary', 3.9745762711864407)\n",
      "('Mystery', 3.895418326693227)\n",
      "('Musical', 3.872946330777656)\n",
      "('Drama', 3.8713842333954065)\n",
      "('Western', 3.7952314165497896)\n",
      "('Crime', 3.782401091405184)\n",
      "('Romance', 3.7537600559636237)\n",
      "('Thriller', 3.6665535956580735)\n",
      "('Animation', 3.6595238095238094)\n",
      "('Adventure', 3.630510153541357)\n",
      "('Action', 3.6060686718126163)\n",
      "('Comedy', 3.5481790591805766)\n",
      "(\"Children's\", 3.5326633165829144)\n",
      "('Sci-Fi', 3.5096045197740113)\n",
      "('Fantasy', 3.453488372093023)\n",
      "('Horror', 3.234234234234234)\n",
      "Number of ratings per genre:\n",
      "Action: 3757\n",
      "Adventure: 2019\n",
      "Animation: 420\n",
      "Children's: 796\n",
      "Comedy: 5272\n",
      "Crime: 1466\n",
      "Documentary: 118\n",
      "Drama: 8055\n",
      "Fantasy: 430\n",
      "Film-Noir: 576\n",
      "Horror: 777\n",
      "Musical: 913\n",
      "Mystery: 1004\n",
      "Romance: 2859\n",
      "Sci-Fi: 1770\n",
      "Thriller: 2948\n",
      "War: 1716\n",
      "Western: 713\n"
     ]
    }
   ],
   "source": [
    "# An array of the counts of viewers for genres across various age groups. \n",
    "# View comment at the bottom for details.\n",
    "age_genre_counts = []\n",
    "\n",
    "for i in range(len(age_grouped_users)):\n",
    "    genre_rating_maps = {}\n",
    "    for genre in unique_genres:\n",
    "        genre_rating_maps[genre] = []\n",
    "        \n",
    "    cur_age_group = age_grouped_users[i][0]\n",
    "    cur_df = age_grouped_users[i][1]\n",
    "    rating_subset = ratings_df[ratings_df['user'].isin(cur_df['id'])]\n",
    "    mgr_df = movies_df.merge(rating_subset, how='inner', on='movie')\n",
    "    \n",
    "    for _, row in mgr_df.iterrows():\n",
    "        cur_genres = row['genres'].split('|')\n",
    "        for genre in cur_genres:\n",
    "            genre_rating_maps[genre].append(row['rating'])\n",
    "    \n",
    "    mean_genre_ratings = { genre: np.mean(genre_rating_maps[genre]) for genre in unique_genres }\n",
    "    sorted_mean_ratings = sorted(mean_genre_ratings.items(), key=operator.itemgetter(1), reverse=True)\n",
    "    \n",
    "    print()\n",
    "    print('Age group = ', cur_age_group)\n",
    "    print('Sorted mean ratings:')\n",
    "    for item in sorted_mean_ratings:\n",
    "        print(item)\n",
    "    \n",
    "    # We also need the number of ratings for each genre for each age group\n",
    "    # From previous runs of this code, we notice an interesting trend in the number of people watching\n",
    "    # and rating various genres of movies, so we'll plot that as well. For now, we'll collect that\n",
    "    # data in a map.\n",
    "    cur_age_genre_counts = {}\n",
    "    \n",
    "    print('Number of ratings per genre:')\n",
    "    for genre in genre_rating_maps:\n",
    "        print(genre, end=': ')\n",
    "        print(len(genre_rating_maps[genre]))\n",
    "        cur_age_genre_counts[genre] = len(genre_rating_maps[genre])\n",
    "    \n",
    "    age_genre_counts.append(cur_age_genre_counts)"
   ]
  },
  {
   "cell_type": "code",
   "execution_count": 35,
   "metadata": {},
   "outputs": [],
   "source": [
    "age_group_titles = [\"Under 18\", \"18-24\", \"25-34\", \"35-44\", \"45-49\", \"50-55\", \"56+\"]"
   ]
  },
  {
   "cell_type": "code",
   "execution_count": 32,
   "metadata": {},
   "outputs": [],
   "source": [
    "import seaborn as sns\n",
    "sns.set_style('whitegrid')"
   ]
  },
  {
   "cell_type": "code",
   "execution_count": 53,
   "metadata": {},
   "outputs": [
    {
     "data": {
      "image/png": "[encoded data removed]",
      "text/plain": [
       "<Figure size 1152x1728 with 7 Axes>"
      ]
     },
     "metadata": {},
     "output_type": "display_data"
    }
   ],
   "source": [
    "plt.figure(figsize=(16, 24))\n",
    "plt.subplots_adjust(wspace=0.25, hspace=0.5)\n",
    "\n",
    "for i in range(len(age_genre_counts)):\n",
    "    total_count = sum(age_genre_counts[i].values())\n",
    "    plt.subplot(4, 2, i + 1)\n",
    "    df = pd.DataFrame({'Genre': [genre for genre in age_genre_counts[i]],\n",
    "                      'Percentage': [(age_genre_counts[i][genre] * 100 / total_count) for genre in age_genre_counts[i]]})\n",
    "    plt.title(age_group_titles[i])\n",
    "    ax = sns.barplot(x='Genre', y='Percentage', data=df, alpha=0.4)\n",
    "    ax.set_xticklabels(ax.get_xticklabels(),rotation=90)\n",
    "plt.show()"
   ]
  },
  {
   "cell_type": "markdown",
   "metadata": {},
   "source": [
    "We can conclude a lot from what we have so far.  \n",
    "1. Action movies grow in popularity as children grow to adults, till it reaches a peak at around the time that people turn around 30, after which its popularity slowly dwindles.  \n",
    "2. Drama movies get increasingly popular as people grow older, and by old age, it dominates the number of movies people watch, grabbing over a quarter of the total views.  \n",
    "3. Comedy movies start off well, but people seem to watch them less as they grow older.  \n",
    "4. Although Thriller and Sci-Fi movies maintain a rather steady number of viewers, elderly people (above 56) tend not to watch them as much as younger people.  \n",
    "5. Romance movies have their highest viewership from people between 25 and 44, after which their charm wanes.  \n",
    "6. The age groups show similar rankings for the mean genre ratings, with some exceptions. The Crime genre is slowly pushed down as the age increases, being slowly pushed down by Musical and Mystery. Adolescents don't seem to like documentaries much, but that trend doesn't continue for other age groups, where the genre shoots up in mean rating.  \n",
    "7. Film-Noir, Documentary, War, Drama, and Crime maintain the top few ranking positions across most age groups. Since this ordering is similar to the one obtained before, and seeing how the percentage of viewership (from the bar graphs) follows similar trends, we conclude that with a few exceptions, the popularity of various genres across age groups follows the same distribution as that of all the data together.  \n",
    "\n",
    "**Conclusion**: The genre popularity trends across various age groups are similar to the trends for the whole dataset, with some exceptions as discussed above. While Action movies shoot up in popularity and then slowly dwindle, and Comedy movies go on a constant decline in viewership percentage, Drama movies slowly dominate the viewership percentage."
   ]
  },
  {
   "cell_type": "markdown",
   "metadata": {},
   "source": [
    "**Related Question**: What is the distribution of viewership across age groups?"
   ]
  },
  {
   "cell_type": "code",
   "execution_count": 54,
   "metadata": {},
   "outputs": [],
   "source": [
    "viewership = [sum(item.values()) for item in age_genre_counts]"
   ]
  },
  {
   "cell_type": "code",
   "execution_count": 55,
   "metadata": {},
   "outputs": [
    {
     "data": {
      "text/plain": [
       "[21171, 177325, 443748, 217594, 92075, 72478, 35609]"
      ]
     },
     "execution_count": 55,
     "metadata": {},
     "output_type": "execute_result"
    }
   ],
   "source": [
    "viewership"
   ]
  },
  {
   "cell_type": "code",
   "execution_count": 68,
   "metadata": {},
   "outputs": [],
   "source": [
    "from scipy import stats"
   ]
  },
  {
   "cell_type": "code",
   "execution_count": 82,
   "metadata": {},
   "outputs": [
    {
     "name": "stderr",
     "output_type": "stream",
     "text": [
      "/usr/local/lib64/python3.6/site-packages/matplotlib/axes/_axes.py:6462: UserWarning: The 'normed' kwarg is deprecated, and has been replaced by the 'density' kwarg.\n",
      "  warnings.warn(\"The 'normed' kwarg is deprecated, and has been \"\n"
     ]
    },
    {
     "data": {
      "image/png": "[encoded data removed]",
      "text/plain": [
       "<Figure size 432x288 with 1 Axes>"
      ]
     },
     "metadata": {},
     "output_type": "display_data"
    }
   ],
   "source": [
    "sns.distplot(viewership, kde=False, fit=stats.expon);"
   ]
  },
  {
   "cell_type": "code",
   "execution_count": 80,
   "metadata": {},
   "outputs": [
    {
     "name": "stderr",
     "output_type": "stream",
     "text": [
      "/usr/local/lib64/python3.6/site-packages/matplotlib/axes/_axes.py:6462: UserWarning: The 'normed' kwarg is deprecated, and has been replaced by the 'density' kwarg.\n",
      "  warnings.warn(\"The 'normed' kwarg is deprecated, and has been \"\n"
     ]
    },
    {
     "data": {
      "image/png": "[encoded data removed]",
      "text/plain": [
       "<Figure size 432x288 with 1 Axes>"
      ]
     },
     "metadata": {},
     "output_type": "display_data"
    }
   ],
   "source": [
    "sns.distplot(viewership);"
   ]
  },
  {
   "cell_type": "markdown",
   "metadata": {},
   "source": [
    "**Conclusion**: The viewership seems to follow an Exponential distribution, and declines as people grow older."
   ]
  },
  {
   "cell_type": "code",
   "execution_count": null,
   "metadata": {},
   "outputs": [],
   "source": []
  }
 ],
 "metadata": {
  "kernelspec": {
   "display_name": "Python 3",
   "language": "python",
   "name": "python3"
  },
  "language_info": {
   "codemirror_mode": {
    "name": "ipython",
    "version": 3
   },
   "file_extension": ".py",
   "mimetype": "text/x-python",
   "name": "python",
   "nbconvert_exporter": "python",
   "pygments_lexer": "ipython3",
   "version": "3.6.5"
  }
 },
 "nbformat": 4,
 "nbformat_minor": 2
}
