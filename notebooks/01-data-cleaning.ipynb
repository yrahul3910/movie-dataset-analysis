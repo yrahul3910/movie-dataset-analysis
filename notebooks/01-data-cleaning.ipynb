{
 "cells": [
  {
   "cell_type": "markdown",
   "metadata": {},
   "source": [
    "# Data Cleaning\n",
    "In this notebook, we'll clean the data. That is, we'll get rid of the elements that we think are unnecessary. This doesn't necessarily make our analysis any easier, but certainly helps us focus on what's important."
   ]
  },
  {
   "cell_type": "markdown",
   "metadata": {},
   "source": [
    "## Movies Data\n",
    "We start with the `movies.dat` file. Here, we'll remove the name of the movie, since it's rather irrelevant, but we will keep the movie's release year."
   ]
  },
  {
   "cell_type": "code",
   "execution_count": 1,
   "metadata": {},
   "outputs": [],
   "source": [
    "import os\n",
    "import re"
   ]
  },
  {
   "cell_type": "code",
   "execution_count": 2,
   "metadata": {},
   "outputs": [
    {
     "name": "stdout",
     "output_type": "stream",
     "text": [
      "[\"1,1995,Animation|Children's|Comedy\\n\", \"2,1995,Adventure|Children's|Fantasy\\n\", '3,1995,Comedy|Romance\\n', '4,1995,Comedy|Drama\\n', '5,1995,Comedy\\n', '6,1995,Action|Crime|Thriller\\n', '7,1995,Comedy|Romance\\n', \"8,1995,Adventure|Children's\\n\", '9,1995,Action\\n', '10,1995,Action|Adventure|Thriller\\n']\n"
     ]
    }
   ],
   "source": [
    "movie_file = os.path.join(os.path.pardir, 'movies.dat')\n",
    "\n",
    "lines = None\n",
    "# This has some weird mix of encodings, so pick some Western European encoding,\n",
    "# and it works.\n",
    "with open(movie_file, 'r', encoding='cp1252') as f:\n",
    "    lines = f.readlines()\n",
    "    for i, line in enumerate(lines):\n",
    "        parts = line.split('::')\n",
    "        \n",
    "        # Get the year. The pattern is digits, followed by 3 characters: \")::\".\n",
    "        # Since the ) is also being matches, we splice it out.\n",
    "        matches = re.search(r'\\d+...$', parts[1])\n",
    "        lines[i] = parts[0] + ',' + matches.group(0)[:-1] + ',' + parts[2]\n",
    "    print(lines[:10])"
   ]
  },
  {
   "cell_type": "code",
   "execution_count": 3,
   "metadata": {},
   "outputs": [],
   "source": [
    "movie_processed_file = os.path.join(os.path.pardir, 'processed', 'movies_processed.dat')\n",
    "with open(movie_processed_file, 'w') as f:\n",
    "    f.write('id,year,genres\\n')\n",
    "    f.writelines(lines)"
   ]
  },
  {
   "cell_type": "markdown",
   "metadata": {},
   "source": [
    "## Ratings File\n",
    "Next, we process the `training_ratings_for_kaggle_comp.csv` file."
   ]
  },
  {
   "cell_type": "code",
   "execution_count": 4,
   "metadata": {},
   "outputs": [
    {
     "name": "stdout",
     "output_type": "stream",
     "text": [
      "['user,movie,rating\\n', '2783,1253,5\\n', '2783,589,5\\n', '2783,1270,4\\n', '2783,1274,4\\n', '2783,741,5\\n', '2783,750,5\\n', '2783,924,5\\n', '2783,2407,4\\n', '2783,3070,3\\n']\n"
     ]
    }
   ],
   "source": [
    "ratings_file = os.path.join(os.path.pardir, 'training_ratings_for_kaggle_comp.csv')\n",
    "\n",
    "with open(ratings_file, 'r') as f:\n",
    "    lines = f.readlines()\n",
    "    lines = [','.join(line.split(',')[:-1]) + '\\n' for line in lines]\n",
    "print(lines[:10])"
   ]
  },
  {
   "cell_type": "code",
   "execution_count": 5,
   "metadata": {},
   "outputs": [],
   "source": [
    "ratings_processed_file = os.path.join(os.path.pardir, 'processed', 'ratings_processed.csv')\n",
    "with open(ratings_processed_file, 'w') as f:\n",
    "    f.writelines(lines)"
   ]
  },
  {
   "cell_type": "markdown",
   "metadata": {},
   "source": [
    "We'll leave the users file as it is, since we can try interesting things on the data given."
   ]
  },
  {
   "cell_type": "code",
   "execution_count": 6,
   "metadata": {},
   "outputs": [],
   "source": [
    "users_file = os.path.join(os.path.pardir, 'users.dat')\n",
    "users_processed_file = os.path.join(os.path.pardir, 'processed', 'users_processed.dat')\n",
    "with open(users_file, 'r') as f:\n",
    "    lines = f.readlines()\n",
    "    \n",
    "    with open(users_processed_file, 'w') as g:\n",
    "        g.write('id::gender::age_group::occupation::zip_code\\n')\n",
    "        g.writelines(lines)"
   ]
  },
  {
   "cell_type": "code",
   "execution_count": null,
   "metadata": {},
   "outputs": [],
   "source": []
  }
 ],
 "metadata": {
  "kernelspec": {
   "display_name": "Python 3",
   "language": "python",
   "name": "python3"
  },
  "language_info": {
   "codemirror_mode": {
    "name": "ipython",
    "version": 3
   },
   "file_extension": ".py",
   "mimetype": "text/x-python",
   "name": "python",
   "nbconvert_exporter": "python",
   "pygments_lexer": "ipython3",
   "version": "3.6.5"
  }
 },
 "nbformat": 4,
 "nbformat_minor": 2
}
